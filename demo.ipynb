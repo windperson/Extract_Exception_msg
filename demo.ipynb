{
 "cells": [
  {
   "cell_type": "code",
   "execution_count": 12,
   "metadata": {
    "dotnet_interactive": {
     "language": "csharp"
    },
    "polyglot_notebook": {
     "kernelName": "csharp"
    }
   },
   "outputs": [],
   "source": [
    "using System.Text.RegularExpressions;\n",
    "var patterns = new string []{\n",
    "    @\"^An error occurred while attempting to automatically activate registration '(?<target>[^'\\n\\r]+)'\",\n",
    "    @\"^A delegate registered to create instances of '(?<target>[^'\\n\\r]+)' returned null\",\n",
    "    @\"^An exception was thrown while invoking the constructor '[^'\\n\\r]*' on type '(?<target>([a-zA-Z_@][a-zA-Z\\d_@]*\\.)*[a-zA-Z_@][a-zA-Z\\d_@]*)'\",\n",
    "    @\"^The required constructor on type '(?<target>([a-zA-Z_@][a-zA-Z\\d_@]*\\.)*[a-zA-Z_@][a-zA-Z\\d_@]*)'  with signature '[^'\\n\\r]*' is unavailable\",\n",
    "    @\"^More than one constructor matches the signature '(?<target>[^'\\n\\r]*)'\",\n",
    "    @\"^Cannot choose between multiple constructors with equal length \\d on type '(?<target>([a-zA-Z_@][a-zA-Z\\d_@]*\\.)*[a-zA-Z_@][a-zA-Z\\d_@]*)'\",\n",
    "    @\"^No constructors on type '(?<target>([a-zA-Z_@][a-zA-Z\\d_@]*\\.)*[a-zA-Z_@][a-zA-Z\\d_@]*)' can be found with the constructor finder\",\n",
    "    @\"^None of the constructors found with '[^'\\n\\r]*' on type '(?<target>([a-zA-Z_@][a-zA-Z\\d_@]*\\.)*[a-zA-Z_@][a-zA-Z\\d_@]*)' can be invoked\",\n",
    "    @\"^The constructor of type '(?<target>([a-zA-Z_@][a-zA-Z\\d_@]*\\.)*[a-zA-Z_@][a-zA-Z\\d_@]*)' attempted to create another instance of itself\",\n",
    "    @\"^No scope with a tag matching '(?<target>[^'\\n\\r]+)' is visible from the scope in which the instance was requested\",\n",
    "    @\"^Probable circular dependency between factory-scoped components. Chain includes '(?<target>[^'\\n\\r]+)'\",\n",
    "    @\"^Circular component dependency detected: (?<target>[^\\n\\r]+).\",\n",
    "    @\"^The requested service '(?<target>[^'\\n\\r]+)' has not been registered\"\n",
    "};"
   ]
  },
  {
   "cell_type": "code",
   "execution_count": 23,
   "metadata": {
    "dotnet_interactive": {
     "language": "csharp"
    },
    "polyglot_notebook": {
     "kernelName": "csharp"
    }
   },
   "outputs": [],
   "source": [
    "var rawMessage = @\"An exception was thrown while invoking the constructor 'defInit()' on type 'abc.def', please check...\";\n",
    "var reasonType = string.Empty;"
   ]
  },
  {
   "cell_type": "code",
   "execution_count": 24,
   "metadata": {
    "dotnet_interactive": {
     "language": "csharp"
    },
    "polyglot_notebook": {
     "kernelName": "csharp"
    }
   },
   "outputs": [],
   "source": [
    "foreach (var pattern in patterns)\n",
    "{\n",
    "    var matched = Regex.Match(rawMessage, pattern);\n",
    "\n",
    "    if(matched.Success)\n",
    "    {\n",
    "        reasonType = matched.Groups[\"target\"].Value;\n",
    "        break;\n",
    "    }\n",
    "}"
   ]
  },
  {
   "cell_type": "code",
   "execution_count": 25,
   "metadata": {
    "dotnet_interactive": {
     "language": "csharp"
    },
    "polyglot_notebook": {
     "kernelName": "csharp"
    }
   },
   "outputs": [
    {
     "name": "stdout",
     "output_type": "stream",
     "text": [
      "reasonType=abc.def\r\n"
     ]
    }
   ],
   "source": [
    "Console.WriteLine(\"reasonType={0}\", reasonType);"
   ]
  }
 ],
 "metadata": {
  "kernelspec": {
   "display_name": ".NET (C#)",
   "language": "C#",
   "name": ".net-csharp"
  },
  "language_info": {
   "name": "polyglot-notebook"
  },
  "polyglot_notebook": {
   "kernelInfo": {
    "defaultKernelName": "csharp",
    "items": [
     {
      "aliases": [],
      "languageName": "csharp",
      "name": "csharp"
     }
    ]
   }
  }
 },
 "nbformat": 4,
 "nbformat_minor": 2
}
